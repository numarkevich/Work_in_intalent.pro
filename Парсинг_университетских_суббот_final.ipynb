{
 "cells": [
  {
   "cell_type": "code",
   "execution_count": 1,
   "metadata": {},
   "outputs": [],
   "source": [
    "import requests\n",
    "from bs4 import BeautifulSoup\n",
    "from urllib.request import urlopen\n",
    "import pprint"
   ]
  },
  {
   "cell_type": "code",
   "execution_count": 2,
   "metadata": {},
   "outputs": [],
   "source": [
    "# http://us.educom.ru/ здесь лежат мероприятия, которые нужно парсить\n",
    "# требуется вытащить инфу о каждом мероприятии с главной страницы, а также со страниц, рассказывающих о каждом\n",
    "# мероприятии более подробно (на них попадаешь, нажав на кнопку \"Подробнее\")\n",
    "# мне удалось спарсить инфу об одном мероприятии, и очень нужен совет, как бы ловчее сделать так, чтобы код\n",
    "# работал на всех мероприятиях"
   ]
  },
  {
   "cell_type": "code",
   "execution_count": 2,
   "metadata": {},
   "outputs": [],
   "source": [
    "import re"
   ]
  },
  {
   "cell_type": "code",
   "execution_count": 3,
   "metadata": {},
   "outputs": [],
   "source": [
    "from selenium import webdriver\n",
    "from selenium.webdriver.common.keys import Keys \n",
    "import time"
   ]
  },
  {
   "cell_type": "code",
   "execution_count": 4,
   "metadata": {},
   "outputs": [],
   "source": [
    "from selenium.webdriver import Chrome\n",
    "\n",
    "path='/Users/nu.markevich/Downloads/chromedriver'\n",
    "driver = Chrome(executable_path=path)\n",
    "driver.get('http://us.educom.ru')\n",
    "time.sleep(5)"
   ]
  },
  {
   "cell_type": "code",
   "execution_count": 6,
   "metadata": {},
   "outputs": [],
   "source": [
    "htmlSource = driver.page_source"
   ]
  },
  {
   "cell_type": "code",
   "execution_count": 7,
   "metadata": {},
   "outputs": [],
   "source": [
    "#Вытаксиваю информацию о первом мероприятии с главной страницы\n",
    "#def find_information():\n",
    "    #title = driver.find_element_by_xpath('//*[@id=\"container\"]/div/div[2]/div/section/div[2]/div[2]/div[2]/div[2]/h4')\n",
    "    #print(title.text)\n",
    "    #condition = driver.find_element_by_xpath('//*[@id=\"container\"]/div/div[2]/div/section/div[2]/div[2]/div[1]/div[2]/p')\n",
    "    #print(condition.text)\n",
    "    #partner = driver.find_element_by_xpath('//*[@id=\"container\"]/div/div[2]/div/section/div[2]/div[2]/div[2]/div[2]/p/b')\n",
    "    #print(partner.text)\n",
    "    #people = driver.find_element_by_xpath('//*[@id=\"container\"]/div/div[2]/div/section/div[2]/div[2]/div[2]/div[1]/span')\n",
    "    #print(people.text)\n",
    "    #format = driver.find_element_by_xpath('//*[@id=\"container\"]/div/div[2]/div/section/div[2]/div[2]/div[2]/div[2]/div[1]/ul[1]/li/span')\n",
    "    #print(format.text)\n",
    "    #begining = driver.find_element_by_xpath('//*[@id=\"container\"]/div/div[2]/div/section/div[2]/div[2]/div[1]/div[1]')\n",
    "    #print(begining.text)\n",
    "    #subject = driver.find_element_by_xpath('//*[@id=\"container\"]/div/div[2]/div/section/div[2]/div[2]/div[2]/div[2]/div[1]/ul[2]/li/span')\n",
    "    #print(subject.text)"
   ]
  },
  {
   "cell_type": "code",
   "execution_count": 8,
   "metadata": {},
   "outputs": [],
   "source": [
    "# А теперь таким же образом беру информацию о всех мероприятиях с главной страницы\n",
    "def find_information(driver):\n",
    "    texts = []\n",
    "    i = 2\n",
    "    while True: # В дальнейшем вместо True можно будет подставить номер последнего нового мероприятия +1\n",
    "        try:\n",
    "            text = []\n",
    "            title = driver.find_element_by_xpath('//*[@id=\"container\"]/div/div[2]/div/section/div['+str(i)+']/div[2]/div[2]/div[2]/h4')\n",
    "            text.append(title.text)\n",
    "            condition = driver.find_element_by_xpath('//*[@id=\"container\"]/div/div[2]/div/section/div['+str(i)+']/div[2]/div[1]/div[2]/p')\n",
    "            text.append(condition.text)\n",
    "            partner = driver.find_element_by_xpath('//*[@id=\"container\"]/div/div[2]/div/section/div['+str(i)+']/div[2]/div[2]/div[2]/p/b')\n",
    "            text.append(partner.text)\n",
    "            people = driver.find_element_by_xpath('//*[@id=\"container\"]/div/div[2]/div/section/div['+str(i)+']/div[2]/div[2]/div[1]/span')\n",
    "            text.append(people.text)\n",
    "            form = driver.find_element_by_xpath('//*[@id=\"container\"]/div/div[2]/div/section/div['+str(i)+']/div[2]/div[2]/div[2]/div[1]/ul[1]/li/span')\n",
    "            text.append(form.text)\n",
    "            begining = driver.find_element_by_xpath('//*[@id=\"container\"]/div/div[2]/div/section/div['+str(i)+']/div[2]/div[1]/div[1]')\n",
    "            text.append(begining.text)\n",
    "            subject = driver.find_element_by_xpath('//*[@id=\"container\"]/div/div[2]/div/section/div['+str(i)+']/div[2]/div[2]/div[2]/div[1]/ul[2]/li/span')\n",
    "            text.append(subject.text)\n",
    "            texts.append(text)\n",
    "            next_link = driver.find_element_by_xpath('//*[@id=\"container\"]/div/div[2]/div/section/div['+str(i)+']/div[2]/div[2]/div[2]/div[2]')\n",
    "            next_link.click()\n",
    "            time.sleep(5) # Нужно повторять каждый раз, иначе текст не подгружается\n",
    "            jumble = driver.find_element_by_xpath('//*[@id=\"container\"]/div/div[2]/div/div[1]/div') #Куча инфы в одном блоке\n",
    "            text.append(jumble.text)\n",
    "            target_audience = driver.find_element_by_css_selector('#container > div > div:nth-child(2) > div > div:nth-child(2) > div:nth-child(1) > div:nth-child(3) > p:nth-child(3)')\n",
    "            text.append(target_audience.text)\n",
    "            host = driver.find_element_by_xpath('//*[@id=\"container\"]/div/div[2]/div/div[2]/div/div[2]/p') #Отсюда вытащу ведущего и мб подробную инфу о мероприятии\n",
    "            text.append(host.text)\n",
    "            date = driver.find_element_by_xpath('//*[@id=\"container\"]/div/div[2]/div/div[1]/div/div[1]/div[1]/div[2]')\n",
    "            text.append(date.text)\n",
    "            day_of_the_week = driver.find_element_by_xpath('//*[@id=\"container\"]/div/div[2]/div/div[1]/div/div[1]/div[1]/div[1]')\n",
    "            text.append(day_of_the_week.text)\n",
    "            month_and_year = driver.find_element_by_xpath('//*[@id=\"container\"]/div/div[2]/div/div[1]/div/div[1]/div[1]/div[3]')\n",
    "            text.append(month_and_year.text)\n",
    "            \n",
    "            link = driver.current_url\n",
    "            text.append(link)\n",
    "            back_link = driver.find_element_by_xpath('//*[@id=\"container\"]/div/div[1]/div[2]/div/div/a[3]/div')\n",
    "            back_link.click()\n",
    "            time.sleep(5)\n",
    "\n",
    "#             print(text)\n",
    "#             print('------------')\n",
    "            \n",
    "            \n",
    "\n",
    "            i+=1\n",
    "        except:\n",
    "            return texts"
   ]
  },
  {
   "cell_type": "code",
   "execution_count": 9,
   "metadata": {
    "scrolled": true
   },
   "outputs": [],
   "source": [
    "texts = find_information(driver)"
   ]
  },
  {
   "cell_type": "code",
   "execution_count": 10,
   "metadata": {},
   "outputs": [],
   "source": [
    "file_with_texts = open('file_with_texts.txt', 'x')"
   ]
  },
  {
   "cell_type": "code",
   "execution_count": 11,
   "metadata": {},
   "outputs": [],
   "source": [
    "file_with_texts.write('\\n'.join(str(x) for x in texts))\n",
    "file_with_texts.close()"
   ]
  }
 ],
 "metadata": {
  "kernelspec": {
   "display_name": "Python 3",
   "language": "python",
   "name": "python3"
  },
  "language_info": {
   "codemirror_mode": {
    "name": "ipython",
    "version": 3
   },
   "file_extension": ".py",
   "mimetype": "text/x-python",
   "name": "python",
   "nbconvert_exporter": "python",
   "pygments_lexer": "ipython3",
   "version": "3.7.3"
  }
 },
 "nbformat": 4,
 "nbformat_minor": 2
}
