#!/usr/bin/env python
# coding: utf-8

# In[1]:


import pandas as pd


# In[2]:


df = pd.read_csv('file_with_texts.txt', sep="',", header=None, error_bad_lines=False, 
                 names = ["Название", "Статус", "Субпартнер", "Количество участников", "Тип мероприятия",  "Начало мероприятия", 
                          "Тематический раздел",  "Адрес и место", "Возраст", "Описание и ведущий", 
                          "Число", "День недели", 
                          "Месяц и год", "Ссылка на карточку партнера"])


# In[3]:


#Создаю колонку с описанием мероприятия
df['Описание'] = df['Описание и ведущий']
keyword = 'Вход на мероприятие по предварительной регистрации на сайте'
df['Описание'] = df['Описание'].str.partition(keyword)[0]
keyword = 'Время проведения:'
df['Описание'] = df['Описание'].str.partition(keyword)[2]
df['Описание'] = df['Описание'].map(lambda x: str(x)[13:])

#Создаю колонку с кратким описанием, состоящим из первых n слов из колонки "Описание"
df['Краткое описание'] = df['Описание']
df['Краткое описание'] = df['Краткое описание'].str[:140]
df['Краткое описание'] = df['Краткое описание'].apply(lambda x: x.replace('n',''))

df['Описание'] = df['Описание'].map(lambda x: str(x)[:-2])
df['Описание'] = df['Описание'].map(lambda x: str(x)[2:])
df['Описание'] = df['Описание'].apply(lambda x: x.replace('n',''))
df


# In[4]:


#Добавляю поля с автозаполнением
df['partner_id'] = '"Субботы московского школьника"' # Партнер
df['region_id'] = '109498' # Регион
df['is_online'] = 'N' # Форма проведения
df['state'] = '0' # Статус
df['card'] = '4' # Карточка
df['importance_level'] = 'C' # Категория важности
df['sort'] = '1' # Сортировка
df['min_price'] = '0' # Стоимость
df['min_persons'] = '1' #Размер группы от одного человека


# In[5]:


df


# In[6]:


#Убираю кракозябры
df = df.applymap(lambda x: x.replace("'", ''))


# In[7]:


df = df.applymap(lambda x: x.replace("[", ''))


# In[8]:


df = df.applymap(lambda x: x.replace("]", ''))


# In[9]:


#Заменяю типы мероприятий как в таблице соответствия
df['Тип мероприятия'] = df['Тип мероприятия'].apply(lambda x: x.replace('Практикум','Мастер-класс'))
df['Тип мероприятия'] = df['Тип мероприятия'].apply(lambda x: x.replace('Квест','Игра, квест'))
df['Тип мероприятия'] = df['Тип мероприятия'].apply(lambda x: x.replace('Семинар','Лекция'))
df['Тип мероприятия'] = df['Тип мероприятия'].apply(lambda x: x.replace('Деловая игра','Игра, квест'))
df['Тип мероприятия'] = df['Тип мероприятия'].apply(lambda x: x.replace('Творческое занятие','Мастер-класс'))


# In[10]:


#Добавляю колонку ID на основании типа мероприятий
df['ID']=df['Тип мероприятия']
df['ID'] = df['ID'].apply(lambda x: x.replace('Мастер-класс','1'))
df['ID'] = df['ID'].apply(lambda x: x.replace('Игра, квест','128'))
df['ID'] = df['ID'].apply(lambda x: x.replace('Тренинг','4'))
df['ID'] = df['ID'].apply(lambda x: x.replace('Экскурсия','2'))
df['ID'] = df['ID'].apply(lambda x: x.replace('Лекция','512'))


# In[11]:


#Заменяю тематические разделы как в таблице соответствия
df['Тематический раздел'] = df['Тематический раздел'].apply(lambda x: x.replace('Техника и технологии','Техническое'))
df['Тематический раздел'] = df['Тематический раздел'].apply(lambda x: x.replace('Общественные и гуманитарные науки','Социально-педагогическое'))
df['Тематический раздел'] = df['Тематический раздел'].apply(lambda x: x.replace('Естественные науки, экология','Естественнонаучное'))
df['Тематический раздел'] = df['Тематический раздел'].apply(lambda x: x.replace('Медицина и здоровьесбережение','Естественнонаучное'))
df['Тематический раздел'] = df['Тематический раздел'].apply(lambda x: x.replace('Педагогика и психология','Социально-педагогическое'))
df['Тематический раздел'] = df['Тематический раздел'].apply(lambda x: x.replace('Физическая культура','Физкультурно-спортивное'))
df['Тематический раздел'] = df['Тематический раздел'].apply(lambda x: x.replace('Культура и искусство','Художественное'))
df['Тематический раздел'] = df['Тематический раздел'].apply(lambda x: x.replace('Физико-математические науки','Техническое'))
df['Тематический раздел'] = df['Тематический раздел'].apply(lambda x: x.replace('Экономика и управление','Социально-педагогическое'))
df['Тематический раздел'] = df['Тематический раздел'].apply(lambda x: x.replace('IT-технологии','Техническое'))


# In[12]:


#Заменяю возраст аудитории
df['Возраст'] = df['Возраст'].apply(lambda x: x.replace('Обучающиеся 5 - 7 классов','11-13'))
df['Возраст'] = df['Возраст'].apply(lambda x: x.replace('Обучающиеся 7 - 9 классов','13-15'))
df['Возраст'] = df['Возраст'].apply(lambda x: x.replace('Обучающиеся 8 - 11 классов','14-17'))
df['Возраст'] = df['Возраст'].apply(lambda x: x.replace('Обучающиеся 9 - 11 классов','15-17'))
df['Возраст'] = df['Возраст'].apply(lambda x: x.replace('Обучающиеся 10 - 11 классов','16-17'))
df['Возраст'] = df['Возраст'].apply(lambda x: x.replace('Студенты колледжей',''))
df['Возраст'] = df['Возраст'].apply(lambda x: x.replace('Педагоги',''))
df['Возраст'] = df['Возраст'].apply(lambda x: x.replace('Родители',''))
df['Возраст'] = df['Возраст'].apply(lambda x: x.replace('Целевая аудитория:',''))
df['Возраст'] = df['Возраст'].apply(lambda x: x.replace(';',','))
df['Возраст'] = df['Возраст'].apply(lambda x: x.replace(', ,',''))
df


# In[13]:


df['Возраст'] = df['Возраст'].apply(lambda x: x.replace('  ,',''))
df['Возраст'] = df['Возраст'].apply(lambda x: x.replace('  ',''))


# In[14]:


#Создаю поля с возрастом "от" и "до"
df['age_from'] = df['Возраст'].str[:3]
df['age_from'] = df['age_from'].apply(lambda x: x.replace('-',''))
df['age_to'] = df['Возраст'].str[-5:]
df['age_to'] = df['age_to'].apply(lambda x: x.replace('-',''))
df['age_to'] = df['age_to'].apply(lambda x: x.replace(' ',''))
df['age_to'] = df['age_to'].apply(lambda x: x.replace(',',''))


# In[15]:


df['age_to'] = df['age_to'].str[-2:]
df


# In[16]:


keyword = '/'
df['Количество участников'] = df['Количество участников'].str.partition(keyword)[2] #Размер группы до
df


# In[17]:


df['Адрес и место'] = df['Адрес и место'].apply(lambda x: x.replace('n',''))


# In[18]:


#Колонка с адресом
df['Адрес'] = df['Адрес и место']
keyword = 'Москва,'
df['Адрес'] = df['Адрес'].str.partition(keyword)[2]
keyword = '\Место '
df['Адрес'] = df['Адрес'].str.partition(keyword)[0]


# In[19]:


#Колонка с местом проведения
df['Место проведения'] = df['Адрес и место']
keyword = '\Место проведения'
df['Место проведения'] = df['Место проведения'].str.partition(keyword)[2]
keyword = '\Как добраться'
df['Место проведения'] = df['Место проведения'].str.partition(keyword)[0]


# In[20]:


#Колонка "Как добраться"
df['Как добраться'] = df['Адрес и место']
keyword = '\Как добраться'
df['Как добраться'] = df['Как добраться'].str.partition(keyword)[2]
#keyword = '\Как добраться'
#df['Место проведения'] = df['Место проведения'].str.partition(keyword)[0]


# In[21]:


#Колонка "Ведущий"
df['Ведущий'] = df['Описание и ведущий']
keyword = 'Ведущ'
df['Ведущий'] = df['Ведущий'].str.partition(keyword)[2]
df['Ведущий'] = df['Ведущий'].apply(lambda x: x.replace('ий:',''))
df['Ведущий'] = df['Ведущий'].apply(lambda x: x.replace('ие:',''))
df['Ведущий'] = df['Ведущий'].apply(lambda x: x.replace('ая:',''))


# In[22]:


#Колонка "Продолжительность"
df['Продолжительность'] = df['Адрес и место']
keyword = 'Длительность мероприятия'
df['Продолжительность'] = df['Продолжительность'].str.partition(keyword)[2]
keyword = 'До конца регистрации'
df['Продолжительность'] = df['Продолжительность'].str.partition(keyword)[0]


# In[23]:


df['Место проведения'] = df['Место проведения'].map(lambda x: str(x)[0:])
df['Как добраться'] = df['Как добраться'].map(lambda x: str(x)[0:])


# In[24]:


keyword = 'Адрес проведения'
df['Продолжительность'] = df['Продолжительность'].str.partition(keyword)[0]


# In[25]:


keyword = '© Яндекс'
df['Продолжительность'] = df['Продолжительность'].str.partition(keyword)[0]


# In[26]:


keyword = 'http://us.educom.ru/event/'
df['UID в каталоге партнера'] = df['Ссылка на карточку партнера'].str.partition(keyword)[2]


# In[27]:


df['Дата'] = df['Число'] + df['Месяц и год']


# In[28]:


#Удаляю уже ненужные колонки
df.drop(['Описание и ведущий'], axis=1, inplace=True)
df.drop(['Адрес и место'], axis=1, inplace=True)
df.drop(['Возраст'], axis=1, inplace=True)
df.drop(['Число'], axis=1, inplace=True)
df.drop(['Месяц и год'], axis=1, inplace=True)


# In[29]:


df['Краткое описание'] = df['Краткое описание'].astype(str)
df = df.applymap(lambda x: x.replace("[", ''))
df = df.applymap(lambda x: x.replace("]", ''))
df = df.applymap(lambda x: x.replace("'", ''))


# In[30]:


df['Место проведения'] = df['Место проведения'].str[1:]
df['Как добраться'] = df['Как добраться'].str[1:]


# In[31]:


df


# In[32]:


df['Краткое описание'] = df['Краткое описание'].str[2:]
df


# In[33]:


keyword = 'n'
df['Дата'] = df['Дата'].str.partition(keyword)[0]
df['Дата'] = df['Дата'].map(lambda x: str(x)[:-1])


# In[34]:


#df['Краткое описание'] = df['Краткое описание'].apply(lambda x: x.replace(',',''))
df['Продолжительность'] = df['Продолжительность'].str[1:]
df['Продолжительность'] = df['Продолжительность'].str[:-1]
df


# In[35]:


#Добавляю в колонку со временем начала мероприятия фразу "Время начала мероприятия:"
df['Время начала мероприятия'] = 'Время начала мероприятия:'
df['Начало мероприятия'] = df['Время начала мероприятия'] + df['Начало мероприятия']
df.drop(['Время начала мероприятия'], axis=1, inplace=True)
df


# In[36]:


# Переименовываю названия оставшихся колонок как поля БД
df = df.rename({'Название':'name', 'Субпартнер':'subpartner', 'Тип мероприятия':'type', 'Начало мероприятия':'schedule', 
           'Ссылка на карточку партнера':'external_url', 'Описание':'description', 'Краткое описание':'announce',
           'Адрес':'location', 'Место проведения':'place', 'Как добраться':'directions', 'Ведущий':'teachers',
          'Продолжительность':'duration', 'UID в каталоге партнера':'refid', 'Дата':'nearest_date', 'Количество участников':'max_persons'}, axis=1)


# In[37]:


df.drop(['Статус'], axis=1, inplace=True)
df.drop(['Тематический раздел'], axis=1, inplace=True)
df.drop(['День недели'], axis=1, inplace=True)


# In[38]:


from datetime import datetime
df['Дата импорта'] = datetime.today()
df['Дата импорта'] = df['Дата импорта'].map(lambda x: str(x)[:-15])


# In[39]:


df.info()


# In[40]:


df.to_dense().to_csv("parse.csv", index = False, sep=',', encoding='utf-8')


# In[41]:


df


# In[ ]:




